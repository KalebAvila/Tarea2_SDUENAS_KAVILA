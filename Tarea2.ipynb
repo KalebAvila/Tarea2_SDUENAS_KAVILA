{
 "cells": [
  {
   "cell_type": "markdown",
   "metadata": {},
   "source": [
    "<img style=\"float: left; margin: 30px 15px 15px 15px;\" src=\"https://encrypted-tbn0.gstatic.com/images?q=tbn:ANd9GcTFzQj91sOlkeDFkg5HDbjtR4QJYmLXkfMNig&usqp=CAU\" width=\"400\" height=\"500\" /> \n",
    "    \n",
    "    \n",
    "### <font color='navy'> Modelos no lineales para pronósticos. \n",
    "\n",
    "**Nombres:** Sergio Daniel Dueñas Godinez y Kaleb Azael Avila Padilla.\n",
    "\n",
    "**Fecha:** 6 de Febrero del 2024.\n",
    "\n",
    "**Expediente** : 739300 y .\n",
    "    \n",
    "**Profesor:** Oscar David Jaramillo Zuluaga.\n",
    "    \n",
    "**Link Github**: https://github.com/SergioDuenass/Tarea2_SDUENAS_KAVILA \n",
    "\n",
    "# Tarea 2: Clase 4"
   ]
  },
  {
   "cell_type": "markdown",
   "metadata": {},
   "source": [
    "## Enunciado de tarea\n",
    "> # <span style=\"color:red\"> Tarea 2. </span>\n",
    "\n",
    "Para ejemplo estudiado en esta clase data WWWUsage.csv probar lo siguiente:\n",
    "1. Encontrar el mejor modelo ARIMA usando los criterios de AIC, BIC y log-verosimilud, justificando la estructura propuesta.\n",
    "2. Analizar el efecto de normalizar la serie de tiempo, es decir usar MinMaxScaler para normalizar los datos. Posterior a esto, realizar el mismo precedimiento realizado en clase y encontrar el mejor modelo de ARIMA. Justifique todos los análisis realizados, incluyendo los resultados de las gráficas de ACF y PAC.\n",
    "3. Investigar la implementación y teoría de los modelos SARIMAX. Además de eso, generar un modelo de pronóstico usando SARIMAX, donde todo el procediemiento anteriormente descrito es implementado, para el siguiente conjunto de datos con estacionalidad:\n",
    "```\n",
    "air2 = requests.get('https://www.stata-press.com/data/r12/air2.dta').content\n",
    "data2 = pd.read_stata(BytesIO(air2))\n",
    "data2.index = pd.date_range(start=datetime(data2.time[0], 1, 1), periods=len(data2), freq='MS')\n",
    "```\n",
    "**Nota**: Pueden basarse en el siguiente enlace para entender el análisis a realizar \n",
    "https://analyticsindiamag.com/complete-guide-to-sarimax-in-python-for-time-series-modeling/\n",
    "\n",
    "4. Realizar una predicción de 20 unidades de tiempo en el futuro, tanto para el modelo ARIMA como SARIMA y reportar los resulados en una gráfica donde se puedan observar los datos reales y los datos predichos, cómo en la siguiente gráfica:\n",
    "![imagen.png](attachment:imagen.png)"
   ]
  },
  {
   "cell_type": "markdown",
   "metadata": {},
   "source": [
    "### Ejercicio 1: (enunciado) Transcribirlo"
   ]
  },
  {
   "cell_type": "markdown",
   "metadata": {},
   "source": [
    "Código de solución estudiante 1"
   ]
  },
  {
   "cell_type": "code",
   "execution_count": null,
   "metadata": {},
   "outputs": [],
   "source": [
    "# Código de solución estudiante 1\n",
    ".\n",
    ".\n",
    ".\n",
    ".\n"
   ]
  },
  {
   "cell_type": "markdown",
   "metadata": {},
   "source": [
    "Código de solución estudiante 2"
   ]
  },
  {
   "cell_type": "code",
   "execution_count": null,
   "metadata": {},
   "outputs": [],
   "source": [
    "# Código de solución estudiante 2\n",
    ".\n",
    ".\n",
    ".\n",
    ".\n"
   ]
  },
  {
   "cell_type": "markdown",
   "metadata": {},
   "source": [
    "### Respuesta planteada en el ejercicio usando (markdown)\n",
    " La respuesta es ........."
   ]
  }
 ],
 "metadata": {
  "kernelspec": {
   "display_name": "Python 3 (ipykernel)",
   "language": "python",
   "name": "python3"
  },
  "language_info": {
   "codemirror_mode": {
    "name": "ipython",
    "version": 3
   },
   "file_extension": ".py",
   "mimetype": "text/x-python",
   "name": "python",
   "nbconvert_exporter": "python",
   "pygments_lexer": "ipython3",
   "version": "3.9.12"
  }
 },
 "nbformat": 4,
 "nbformat_minor": 2
}
